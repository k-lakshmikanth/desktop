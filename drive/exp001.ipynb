{
 "cells": [
  {
   "cell_type": "code",
   "execution_count": 44,
   "metadata": {},
   "outputs": [],
   "source": [
    "#lakshmikanthkaapuram007@gmail.com\n",
    "#lkapp544@gmail.com\n",
    "#lkaure1@gmail.com\n",
    "gmailid = input(\"Enter gmail id:\")\n",
    "if \"gmail.com\" not in gmailid.split(\"@\"):\n",
    "    gmailid = gmailid+\"@gmail.com\"\n",
    "token='tokens/token-'+gmailid+'.json'\n",
    "access = {gmailid: token}"
   ]
  },
  {
   "cell_type": "code",
   "execution_count": 45,
   "metadata": {},
   "outputs": [
    {
     "data": {
      "text/plain": [
       "{'lkaure1@gmail.com': 'tokens/token-lkaure1@gmail.com.json'}"
      ]
     },
     "execution_count": 45,
     "metadata": {},
     "output_type": "execute_result"
    }
   ],
   "source": [
    "access"
   ]
  },
  {
   "cell_type": "code",
   "execution_count": 46,
   "metadata": {},
   "outputs": [
    {
     "name": "stdout",
     "output_type": "stream",
     "text": [
      "2\n"
     ]
    }
   ],
   "source": [
    "import json\n",
    "f = open(\"/usr/lk/Python/tokens-data.json\",\"r\")\n",
    "json_data = f.read()\n",
    "f.close()\n",
    "json_data = json.loads(json_data)\n",
    "if access in json_data:\n",
    "    pass\n",
    "    print(1)\n",
    "else:\n",
    "    json_data.append(access)\n",
    "    print(2)\n",
    "f = open(\"/usr/lk/Python/tokens-data.json\",\"w\")\n",
    "f.write(str(json_data).replace(\"'\",'\"'))\n",
    "f.close()"
   ]
  },
  {
   "cell_type": "code",
   "execution_count": 47,
   "metadata": {},
   "outputs": [
    {
     "data": {
      "text/plain": [
       "[{'lkaure1@gmail.com': 'tokens/token-lkaure1@gmail.com.json'}]"
      ]
     },
     "execution_count": 47,
     "metadata": {},
     "output_type": "execute_result"
    }
   ],
   "source": [
    "json_data"
   ]
  },
  {
   "cell_type": "markdown",
   "metadata": {},
   "source": [
    "#>>>>>>>>>>>>>>>>>>>>>>>>>>>>>>>>>>>JSON EDIT<<<<<<<<<<<<<<<<<<<<<<<<<<<<<<"
   ]
  },
  {
   "cell_type": "code",
   "execution_count": 48,
   "metadata": {},
   "outputs": [
    {
     "name": "stdout",
     "output_type": "stream",
     "text": [
      "Please visit this URL to authorize this application: https://accounts.google.com/o/oauth2/auth?response_type=code&client_id=724420816057-fc41m3dgu40ge52v2jbpjm4mtugbj0tp.apps.googleusercontent.com&redirect_uri=http%3A%2F%2Flocalhost%3A58980%2F&scope=https%3A%2F%2Fwww.googleapis.com%2Fauth%2Fgmail.readonly&state=0vCH81K5Lss96MZDdihfyQJ9pigVDT&access_type=offline\n"
     ]
    },
    {
     "ename": "FileNotFoundError",
     "evalue": "[Errno 2] No such file or directory: 'tokens/token-lkaure1@gmail.com.json'",
     "output_type": "error",
     "traceback": [
      "\u001b[0;31m---------------------------------------------------------------------------\u001b[0m",
      "\u001b[0;31mFileNotFoundError\u001b[0m                         Traceback (most recent call last)",
      "Input \u001b[0;32mIn [48]\u001b[0m, in \u001b[0;36m<cell line: 23>\u001b[0;34m()\u001b[0m\n\u001b[1;32m     29\u001b[0m         creds \u001b[39m=\u001b[39m flow\u001b[39m.\u001b[39mrun_local_server(port\u001b[39m=\u001b[39m\u001b[39m0\u001b[39m)\n\u001b[1;32m     30\u001b[0m     \u001b[39m# Save the credentials for the next run\u001b[39;00m\n\u001b[0;32m---> 31\u001b[0m     \u001b[39mwith\u001b[39;00m \u001b[39mopen\u001b[39;49m(token, \u001b[39m'\u001b[39;49m\u001b[39mw\u001b[39;49m\u001b[39m'\u001b[39;49m) \u001b[39mas\u001b[39;00m token1:\n\u001b[1;32m     32\u001b[0m         token1\u001b[39m.\u001b[39mwrite(creds\u001b[39m.\u001b[39mto_json())\n\u001b[1;32m     33\u001b[0m \u001b[39mdef\u001b[39;00m \u001b[39mgmail\u001b[39m():\n",
      "\u001b[0;31mFileNotFoundError\u001b[0m: [Errno 2] No such file or directory: 'tokens/token-lkaure1@gmail.com.json'"
     ]
    }
   ],
   "source": [
    "import os.path\n",
    "\n",
    "from google.auth.transport.requests import Request\n",
    "from google.oauth2.credentials import Credentials\n",
    "from google_auth_oauthlib.flow import InstalledAppFlow\n",
    "from googleapiclient.discovery import build\n",
    "from googleapiclient.errors import HttpError\n",
    "\n",
    "\n",
    "# If modifying these scopes, delete the file token.json.\n",
    "SCOPES = ['https://www.googleapis.com/auth/gmail.readonly']\n",
    "\n",
    "\"\"\"Shows basic usage of the Gmail API.\n",
    "Lists the user's Gmail labels.\n",
    "\"\"\"\n",
    "creds = None\n",
    "# The file token.json stores the user's access and refresh tokens, and is\n",
    "# created automatically when the authorization flow completes for the first\n",
    "# time.\n",
    "if os.path.exists(token):\n",
    "    creds = Credentials.from_authorized_user_file(token, SCOPES)\n",
    "# If there are no (valid) credentials available, let the user log in.\n",
    "if not creds or not creds.valid:\n",
    "    if creds and creds.expired and creds.refresh_token:\n",
    "        creds.refresh(Request())\n",
    "    else:\n",
    "        flow = InstalledAppFlow.from_client_secrets_file(\n",
    "            '/usr/lk/Python/credentials.json', SCOPES)\n",
    "        creds = flow.run_local_server(port=0)\n",
    "    # Save the credentials for the next run\n",
    "    with open(token, 'w') as token1:\n",
    "        token1.write(creds.to_json())\n",
    "def gmail():\n",
    "    gmail = build('gmail', 'v1', credentials=creds)\n",
    "    return gmail"
   ]
  },
  {
   "cell_type": "code",
   "execution_count": 38,
   "metadata": {},
   "outputs": [
    {
     "name": "stdout",
     "output_type": "stream",
     "text": [
      "100\n"
     ]
    }
   ],
   "source": [
    "# Call the Gmail API\n",
    "service = build('gmail', 'v1', credentials=creds)\n",
    "results = service.users().messages().list(userId='me',q=\"is:unread\").execute()\n",
    "messages_responce = results.get('messages', [])\n",
    "\n",
    "if not messages_responce:\n",
    "    print('No messages found.')\n",
    "else:\n",
    "    print(len(messages_responce))"
   ]
  },
  {
   "cell_type": "code",
   "execution_count": 28,
   "metadata": {},
   "outputs": [
    {
     "data": {
      "text/plain": [
       "<googleapiclient.discovery.Resource at 0x7f68f011f640>"
      ]
     },
     "execution_count": 28,
     "metadata": {},
     "output_type": "execute_result"
    }
   ],
   "source": [
    "service"
   ]
  },
  {
   "cell_type": "code",
   "execution_count": 32,
   "metadata": {},
   "outputs": [
    {
     "data": {
      "text/plain": [
       "{'messages': [{'id': '180dc3e6172d3555', 'threadId': '180dc3e6172d3555'},\n",
       "  {'id': '180dbbbe9b7b1396', 'threadId': '180dbbbe9b7b1396'},\n",
       "  {'id': '180dbb746da5c936', 'threadId': '180dbb746da5c936'},\n",
       "  {'id': '180daa351cf5e4ec', 'threadId': '180daa351cf5e4ec'},\n",
       "  {'id': '180da9917e2a1be6', 'threadId': '180da9917e2a1be6'},\n",
       "  {'id': '180da26fcf918026', 'threadId': '180da26fcf918026'},\n",
       "  {'id': '180d83ceb984331b', 'threadId': '180d83ceb984331b'},\n",
       "  {'id': '180d7ebac272b0bf', 'threadId': '180d7ebac272b0bf'},\n",
       "  {'id': '180d7b3d2d4262c3', 'threadId': '180d7b3d2d4262c3'},\n",
       "  {'id': '180d7aef712ff66e', 'threadId': '180d7854150cd9e4'},\n",
       "  {'id': '180d786201dc8f14', 'threadId': '180d786201dc8f14'},\n",
       "  {'id': '180d7854150cd9e4', 'threadId': '180d7854150cd9e4'},\n",
       "  {'id': '180d757046f90016', 'threadId': '180d757046f90016'},\n",
       "  {'id': '180d6ffd293994bd', 'threadId': '180d6ffd293994bd'},\n",
       "  {'id': '180d6be73ea525a6', 'threadId': '180d6be73ea525a6'},\n",
       "  {'id': '180d6a5b1cb4915a', 'threadId': '180d6a5b1cb4915a'},\n",
       "  {'id': '180d6a3b9b05df69', 'threadId': '180d6a3b9b05df69'},\n",
       "  {'id': '180d674c88756730', 'threadId': '180d674c88756730'},\n",
       "  {'id': '180d63c1b05dd613', 'threadId': '180d63c1b05dd613'},\n",
       "  {'id': '180d6347ae8918b4', 'threadId': '180d6347ae8918b4'},\n",
       "  {'id': '180d5b9653164c59', 'threadId': '180d5b9653164c59'},\n",
       "  {'id': '180d5b03fa3e33db', 'threadId': '180d5b03fa3e33db'},\n",
       "  {'id': '180d533d4515aa8a', 'threadId': '180d533d4515aa8a'},\n",
       "  {'id': '180d2c8fc8740750', 'threadId': '180d2c8fc8740750'},\n",
       "  {'id': '180d2b788d43eec2', 'threadId': '180d2b788d43eec2'},\n",
       "  {'id': '180d2a525e99325e', 'threadId': '180d2a525e99325e'},\n",
       "  {'id': '180d26529327f615', 'threadId': '180d26529327f615'},\n",
       "  {'id': '180d25d8ceba50ee', 'threadId': '180d25d8ceba50ee'},\n",
       "  {'id': '180d19a27ede06df', 'threadId': '180d19a27ede06df'},\n",
       "  {'id': '180d199d5fe31272', 'threadId': '180d199d5fe31272'},\n",
       "  {'id': '180d193f5be4782a', 'threadId': '180d193f5be4782a'},\n",
       "  {'id': '180d05378e253ac6', 'threadId': '180d05378e253ac6'},\n",
       "  {'id': '180cfc7e457c1bed', 'threadId': '180cfc7e457c1bed'},\n",
       "  {'id': '180cf5aaa8f4679b', 'threadId': '180cf5aaa8f4679b'},\n",
       "  {'id': '180cead7408ce9b6', 'threadId': '180cead7408ce9b6'},\n",
       "  {'id': '180cd33696338c60', 'threadId': '180cd33696338c60'},\n",
       "  {'id': '180cd31f918ce981', 'threadId': '180cd31f918ce981'},\n",
       "  {'id': '180cd1cffc4d0657', 'threadId': '180cd1cffc4d0657'},\n",
       "  {'id': '180cd1af27c6faff', 'threadId': '180cd1af27c6faff'},\n",
       "  {'id': '180cd1af167f4cc9', 'threadId': '180cd1af167f4cc9'},\n",
       "  {'id': '180cc5cf8b5c8cd9', 'threadId': '180cc5cf8b5c8cd9'},\n",
       "  {'id': '180cc14ea72d8d31', 'threadId': '180cc14ea72d8d31'},\n",
       "  {'id': '180cb9bf621ee46c', 'threadId': '180cb9bf621ee46c'},\n",
       "  {'id': '180cb5c42e1eb208', 'threadId': '180cb5c42e1eb208'},\n",
       "  {'id': '180c9d87c6da31ae', 'threadId': '180c9d87c6da31ae'},\n",
       "  {'id': '180c85743ee610a0', 'threadId': '180c85743ee610a0'},\n",
       "  {'id': '180c72d862df51f0', 'threadId': '180c72d862df51f0'}],\n",
       " 'resultSizeEstimate': 47}"
      ]
     },
     "execution_count": 32,
     "metadata": {},
     "output_type": "execute_result"
    }
   ],
   "source": [
    "mail = gmail()\n",
    "result = mail.users().messages().list(userId='me',q=\"is:unread\").execute()\n",
    "result"
   ]
  },
  {
   "cell_type": "code",
   "execution_count": 21,
   "metadata": {},
   "outputs": [],
   "source": [
    "messages = []\n",
    "data = []\n",
    "for i in range(len(messages_responce)):\n",
    "    id = messages_responce[i][\"id\"]\n",
    "\n",
    "    responce = service.users().messages().get(userId = 'me',id = id).execute()\n",
    "    body_data = responce['snippet']\n",
    "    body_data = body_data.replace(\"&#39;\",\"'\")\n",
    "    body_data = body_data.replace(\" \\u200c\",\"\")\n",
    "    messages.append(body_data)\n",
    "    data.append(responce)\n"
   ]
  },
  {
   "cell_type": "code",
   "execution_count": 23,
   "metadata": {},
   "outputs": [
    {
     "data": {
      "text/plain": [
       "44"
      ]
     },
     "execution_count": 23,
     "metadata": {},
     "output_type": "execute_result"
    }
   ],
   "source": [
    "len(data)"
   ]
  },
  {
   "cell_type": "code",
   "execution_count": 37,
   "metadata": {},
   "outputs": [
    {
     "name": "stdout",
     "output_type": "stream",
     "text": [
      "Team Snapchat <no_reply@snapchat.com>\n",
      "Lakshmi, See who just added you as a friend\n",
      "Meetup <info@meetup.com>\n",
      "Spirituality practices to boost your mental health 🧘\n",
      "Pluralsight <no-reply@pluralsight.com>\n",
      "To conquer Visual Studio, you need JavaScript skills\n",
      "PhonePe <noreply@phonepe.com>\n",
      "A solution for your Insurance renewals.\n",
      "Microsoft <Microsoft@e-mail.microsoft.com>\n",
      "Dev Essentials - Learn how to code with Java\n",
      "FlexJobs <newsletter@flexjobs.com>\n",
      "How to Make Job Search Stress Work for You, 30 Companies Hiring for Part-Time, Remote Jobs, and More!\n",
      "Aayushi from Internshala <student@internshala.com>\n",
      "💙 Lakshmikanth, we know you're a catch -- and here's your perfect match!\n",
      "Introducing the Maven Airlines Challenge!\n",
      "Chris at Maven <chris@mavenanalytics.io>\n",
      "Aayushi from Internshala <student@internshala.com>\n",
      "💙 Lakshmikanth, we know you're a catch -- and here's your perfect match!\n",
      "Grammarly Premium <info@send.grammarly.com>\n",
      "We have just the offer for you!\n",
      "Spotify <no-reply@spotify.com>\n",
      "3 months of Premium for ₹119. Final call.\n",
      "\"iNeuron.ai\" <contact@ineuron.ai>\n",
      "Scratch Programming 04:30 PM IST\n",
      "A Certificate Is Waiting For You, Lakshmikanth 👀\n",
      "Simplilearn <updates@simplilearnmailer.com>\n",
      "Don’t miss out on the chance to apply\n",
      "Coursera <no-reply@m.mail.coursera.org>\n",
      "LinkedIn <jobs-listings@linkedin.com>\n",
      "ONLINE WORK FROM HOME OPPORTUNITY is hiring: Graduate Student.\n",
      "Twilio Segment <announcements@e.segment.com>\n",
      "[New] Forrester Now Tech Report: Customer Data Platforms\n",
      "Microsoft Azure <azure-noreply@microsoft.com>\n",
      "You’ve used 75% of your Azure for Students credit\n",
      "Zomato <noreply@mailers.zomato.com>\n",
      "Read this if you love mangoes 🥭\n",
      "Team Snapchat <no_reply@snapchat.com>\n",
      "Lakshmi, See who just added you as a friend\n",
      "Coursera <Coursera@email.coursera.org>\n",
      "You can do it\n",
      "Last Live Q&A with faculty before enrolment deadline for VLSI Design\n",
      "Coursera <no-reply@m.mail.coursera.org>\n",
      "Pluralsight <tech-skills@pluralsight.com>\n",
      "Five Courses on Data, Completely Free\n",
      "Grammarly Insights <info@send.grammarly.com>\n",
      "Looks like you didn't have any writing activity last week.\n",
      "Team Jio <JioCinema@mailer.jio.com>\n",
      "All new season with a small twist!\n",
      "LinkedIn <notifications-noreply@linkedin.com>\n",
      "290 new posts in Python Developers...\n",
      "\"iNeuron.ai\" <contact@ineuron.ai>\n",
      "Kids tech Live Class- iNeuron\n",
      "Hyderabad AI ML Dev Group <info@meetup.com>\n",
      "Wednesday: Join 45 AI Developer at \"ML Data Engineering Conference (Virtual and In-person)\"\n",
      "Zomato <noreply@mailers.zomato.com>\n",
      "Tap to see the future: Year 2070 🔮\n",
      "Fahim from Educative <fahim.u@educative.io>\n",
      "LINQ with C# and SQL Antipatterns\n",
      "Think with Google APAC <thinkwithgoogle-noreply@google.com>\n",
      "Just Published: Your 2022 Retail Marketing Guide is here\n",
      "Microsoft Azure <azure-noreply@microsoft.com>\n",
      "You’ve used 50% of your Azure for Students credit\n",
      "Special offer: free courses to get you started\n",
      "Coursera <no-reply@m.mail.coursera.org>\n",
      "Microsoft Azure Team <azure@email.microsoft.com>\n",
      "Discover insights in all your data with Azure Synapse Analytics\n",
      "LinkedIn <notifications-noreply@linkedin.com>\n",
      "277 new posts in Python Developers...\n",
      "LinkedIn <updates-noreply@linkedin.com>\n",
      "Mogul Hospitality and others share their thoughts on LinkedIn\n",
      "LinkedIn <messages-noreply@linkedin.com>\n",
      "💬 lakshmikanth, add Ravi Kumar Pasumarthi to your network\n",
      "LinkedIn <messages-noreply@linkedin.com>\n",
      "lakshmikanth, you're getting noticed\n",
      "\"iNeuron.ai\" <contact@ineuron.ai>\n",
      "Kids tech Live Class- iNeuron\n",
      "StormGain <noreply@stormgain.com>\n",
      "🎁 You received a 20% crypto bonus\n",
      "Coinbase <no-reply@coinbase.com>\n",
      "Price alert: Bitcoin (BTC) is down -5.02%\n",
      "Zomato <noreply@mailers.zomato.com>\n",
      "Delivery Partner of the Week — Bijal 👏\n",
      "Coinbase <no-reply@coinbase.com>\n",
      "Price alert: Bitcoin (BTC) is up +5.35%\n",
      "Stash <team@mail.stash.com>\n",
      "Why you need to mix it up.\n",
      "Spotify <no-reply@spotify.com>\n",
      "Last, last chance: 3 months of Premium for ₹119.\n"
     ]
    }
   ],
   "source": [
    "for i in range(len(data)):\n",
    "    for i in data[i]['payload']['headers']:\n",
    "        if i[\"name\"] == \"From\":\n",
    "            print(\" \".join(i[\"value\"].split()[:-1]),i[\"value\"].split()[-1])\n",
    "        elif i[\"name\"] == 'Subject':\n",
    "            print(i[\"value\"])\n",
    "    "
   ]
  }
 ],
 "metadata": {
  "interpreter": {
   "hash": "916dbcbb3f70747c44a77c7bcd40155683ae19c65e1c03b4aa3499c5328201f1"
  },
  "kernelspec": {
   "display_name": "Python 3.8.10 64-bit",
   "language": "python",
   "name": "python3"
  },
  "language_info": {
   "codemirror_mode": {
    "name": "ipython",
    "version": 3
   },
   "file_extension": ".py",
   "mimetype": "text/x-python",
   "name": "python",
   "nbconvert_exporter": "python",
   "pygments_lexer": "ipython3",
   "version": "3.8.10"
  },
  "orig_nbformat": 4
 },
 "nbformat": 4,
 "nbformat_minor": 2
}
